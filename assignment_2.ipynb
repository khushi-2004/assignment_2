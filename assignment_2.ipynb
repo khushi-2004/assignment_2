{
 "cells": [
  {
   "cell_type": "code",
   "execution_count": null,
   "id": "30c990ad-be36-42fb-a97c-47730c672b73",
   "metadata": {},
   "outputs": [],
   "source": [
    "Q1. How do you comment code in Python? What are the different types of comments?"
   ]
  },
  {
   "cell_type": "code",
   "execution_count": null,
   "id": "3bb02d33-2b35-42b9-ad3b-e77f4c913205",
   "metadata": {},
   "outputs": [],
   "source": [
    "\n",
    "There are two way for comment code\n",
    "-----> single line comment\n",
    "                     ==> it is denoted by ' # ' symbol\n",
    "    \n",
    "example\n",
    "# a=[23,'kuku',45.78,[4,67],(45,7.8)]\n",
    "\n",
    "\n",
    "-----> multiline comment\n",
    "                    ==> it is denoted by ''' ...code...''' or \"\"\" ...code...\"\"\"\n",
    "\n",
    "example\n",
    "'''\n",
    "list=[1,2.45,'R_language','python',True,34,90,False,67,89.890,90]\n",
    "for i in list:\n",
    "    print(i)\n",
    "    print(type(i))\n",
    "'''"
   ]
  },
  {
   "cell_type": "code",
   "execution_count": null,
   "id": "16f5f8d9-2d32-4ae3-9a8c-676cd564af6b",
   "metadata": {},
   "outputs": [],
   "source": [
    "Q2. What are variables in Python? How do you declare and assign values to variables?"
   ]
  },
  {
   "cell_type": "code",
   "execution_count": null,
   "id": "8d673d68-3515-4b1a-a0c6-65800f968173",
   "metadata": {},
   "outputs": [],
   "source": [
    "variable - \n",
    "         --> for need to manage value\n",
    "         --> to store the value\n",
    "        \n",
    "we create variable \n",
    "           --> variable_name=value\n",
    "example-\n",
    "message=\"pwskills\"\n",
    "print(message)\n",
    "\n",
    "--> variable name cannot be the same as keyword,reserve word and bulit in function\n"
   ]
  },
  {
   "cell_type": "code",
   "execution_count": null,
   "id": "ae693e8d-8d7c-496b-b673-f696f0dfacb7",
   "metadata": {},
   "outputs": [],
   "source": [
    "Q3. How do you convert one data type to another in Python?"
   ]
  },
  {
   "cell_type": "code",
   "execution_count": 1,
   "id": "9a168c85-944c-4883-98ce-41ea0e7a7562",
   "metadata": {},
   "outputs": [
    {
     "data": {
      "text/plain": [
       "78"
      ]
     },
     "execution_count": 1,
     "metadata": {},
     "output_type": "execute_result"
    }
   ],
   "source": [
    "# floating number to integer number\n",
    "a=78.90\n",
    "b=int(a)\n",
    "b"
   ]
  },
  {
   "cell_type": "code",
   "execution_count": null,
   "id": "ec1eba47-d57b-48c2-b359-673577bd5ef2",
   "metadata": {},
   "outputs": [],
   "source": [
    "Q4. How do you write and execute a Python script from the command line?"
   ]
  },
  {
   "cell_type": "code",
   "execution_count": null,
   "id": "6363e6e5-6718-442c-bac6-f0cb7a3ede42",
   "metadata": {},
   "outputs": [],
   "source": [
    "open command-line and type in the word python,or python3 if you have both virsion followed by the path yo ypur script\n"
   ]
  },
  {
   "cell_type": "code",
   "execution_count": null,
   "id": "611df161-42b4-45cb-b841-9510246b82c3",
   "metadata": {},
   "outputs": [],
   "source": [
    "Q5. Given a list my_list = [1, 2, 3, 4, 5], write the code to slice the list and obtain the sub-list [2, 3]."
   ]
  },
  {
   "cell_type": "code",
   "execution_count": 2,
   "id": "e772e681-3d88-45bd-af58-a12f1547cc2f",
   "metadata": {},
   "outputs": [
    {
     "data": {
      "text/plain": [
       "[2, 3]"
      ]
     },
     "execution_count": 2,
     "metadata": {},
     "output_type": "execute_result"
    }
   ],
   "source": [
    "my_list = [1, 2, 3, 4, 5]\n",
    "my_list[1:3]"
   ]
  },
  {
   "cell_type": "code",
   "execution_count": null,
   "id": "2f13560a-4069-425e-b106-3d8e7f52a662",
   "metadata": {},
   "outputs": [],
   "source": [
    "Q6. What is a complex number in mathematics, and how is it represented in Python?"
   ]
  },
  {
   "cell_type": "code",
   "execution_count": 7,
   "id": "585dbfa8-d781-4c15-a57f-3981a17ab2b1",
   "metadata": {},
   "outputs": [
    {
     "name": "stdout",
     "output_type": "stream",
     "text": [
      "5.0\n"
     ]
    }
   ],
   "source": [
    "# complex number-\n",
    "#              It is the combination of real and imaginary values\n",
    "\n",
    "a=5+8j\n",
    "print(a.real)"
   ]
  },
  {
   "cell_type": "code",
   "execution_count": null,
   "id": "8eb36c7f-7008-4ddb-b069-ecd2035ced8d",
   "metadata": {},
   "outputs": [],
   "source": [
    "Q7. What is the correct way to declare a variable named age and assign the value 25 to it?"
   ]
  },
  {
   "cell_type": "code",
   "execution_count": null,
   "id": "cd38a526-f3fc-4ec3-9d3c-fec97e5224a4",
   "metadata": {},
   "outputs": [],
   "source": [
    "age=25"
   ]
  },
  {
   "cell_type": "code",
   "execution_count": null,
   "id": "ff96f9ab-f495-4283-96a2-e7fc7a446e15",
   "metadata": {},
   "outputs": [],
   "source": [
    "Q8. Declare a variable named price and assign the value 9.99 to it. What data type does this variable\n",
    "belong to?"
   ]
  },
  {
   "cell_type": "code",
   "execution_count": 8,
   "id": "7c3a3a97-8f39-4394-bf24-cc0980134653",
   "metadata": {},
   "outputs": [
    {
     "data": {
      "text/plain": [
       "float"
      ]
     },
     "execution_count": 8,
     "metadata": {},
     "output_type": "execute_result"
    }
   ],
   "source": [
    "price=9.99\n",
    "type(price)"
   ]
  },
  {
   "cell_type": "code",
   "execution_count": null,
   "id": "a0cf5ac6-3e6a-4203-b5ca-08574f8ae0f9",
   "metadata": {},
   "outputs": [],
   "source": [
    "Q9. Create a variable named name and assign your full name to it as a string. How would you print the\n",
    "value of this variable?"
   ]
  },
  {
   "cell_type": "code",
   "execution_count": 9,
   "id": "1ba4193b-c5d0-41fb-8bf9-a734013cf1a9",
   "metadata": {},
   "outputs": [
    {
     "name": "stdout",
     "output_type": "stream",
     "text": [
      "khushi jangid\n"
     ]
    }
   ],
   "source": [
    "name=\"khushi jangid\"\n",
    "print(name)"
   ]
  },
  {
   "cell_type": "code",
   "execution_count": null,
   "id": "bc17d218-5acf-4226-8334-de56b4be9fe8",
   "metadata": {},
   "outputs": [],
   "source": [
    "Q10. Given the string \"Hello, World!\", extract the substring \"World\"."
   ]
  },
  {
   "cell_type": "code",
   "execution_count": 10,
   "id": "dc6a571e-917a-4381-85be-b520f03e9c54",
   "metadata": {},
   "outputs": [
    {
     "data": {
      "text/plain": [
       "'World'"
      ]
     },
     "execution_count": 10,
     "metadata": {},
     "output_type": "execute_result"
    }
   ],
   "source": [
    "string=\"Hello, World!\"\n",
    "string[7:12]\n"
   ]
  },
  {
   "cell_type": "code",
   "execution_count": null,
   "id": "3bcee100-703e-4eb3-9d00-6b6b4e9eb62d",
   "metadata": {},
   "outputs": [],
   "source": [
    "Q11. Create a variable named \"is_student\" and assign it a boolean value indicating whether you are\n",
    "currently a student or not."
   ]
  },
  {
   "cell_type": "code",
   "execution_count": null,
   "id": "3cf71940-3dd0-4587-b5a2-a4ceb6079a46",
   "metadata": {},
   "outputs": [],
   "source": []
  }
 ],
 "metadata": {
  "kernelspec": {
   "display_name": "Python 3 (ipykernel)",
   "language": "python",
   "name": "python3"
  },
  "language_info": {
   "codemirror_mode": {
    "name": "ipython",
    "version": 3
   },
   "file_extension": ".py",
   "mimetype": "text/x-python",
   "name": "python",
   "nbconvert_exporter": "python",
   "pygments_lexer": "ipython3",
   "version": "3.10.8"
  }
 },
 "nbformat": 4,
 "nbformat_minor": 5
}
